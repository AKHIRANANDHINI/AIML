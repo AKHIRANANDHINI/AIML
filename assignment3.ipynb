{
  "nbformat": 4,
  "nbformat_minor": 0,
  "metadata": {
    "colab": {
      "provenance": [],
      "authorship_tag": "ABX9TyNaRKPyBkFA3YtAtR2oXtsa",
      "include_colab_link": true
    },
    "kernelspec": {
      "name": "python3",
      "display_name": "Python 3"
    },
    "language_info": {
      "name": "python"
    }
  },
  "cells": [
    {
      "cell_type": "markdown",
      "metadata": {
        "id": "view-in-github",
        "colab_type": "text"
      },
      "source": [
        "<a href=\"https://colab.research.google.com/github/AKHIRANANDHINI007/AKHIRA/blob/main/assignment3.ipynb\" target=\"_parent\"><img src=\"https://colab.research.google.com/assets/colab-badge.svg\" alt=\"Open In Colab\"/></a>"
      ]
    },
    {
      "cell_type": "code",
      "execution_count": 2,
      "metadata": {
        "id": "LtgOcJkm4CO9"
      },
      "outputs": [],
      "source": [
        "from collections import namedtuple,Counter,defaultdict\n",
        "import random\n",
        "import math\n",
        "import functools\n",
        "cache = functools.lru_cache(10**6)\n",
        "\n",
        ""
      ]
    },
    {
      "cell_type": "code",
      "source": [
        "class Game:\n",
        "    def actions(self, state):\n",
        "     raise NotImplementedError\n",
        "    def result(self, state, move):\n",
        "     raise NotImplementedError\n",
        "    def is_terminal (self, state):\n",
        "     return not self.acrions (state)\n",
        "    def utility(self, state, player):\n",
        "     raise NotImplementedError\n"
      ],
      "metadata": {
        "id": "6OW_kxwJ4nlC"
      },
      "execution_count": 4,
      "outputs": []
    },
    {
      "cell_type": "code",
      "source": [
        "def play_game(game, strategies: dict, verbose=False):\n",
        "  state=game.initial\n",
        "  while not game.is_terminal(state):\n",
        "    player=state.to_move\n",
        "    move=strategies [player](game, state)\n",
        "    state=game.result(state, move)\n",
        "  if verbose:\n",
        "    print('Player', player, 'move', move)\n",
        "    print(state)\n",
        "    return state\n"
      ],
      "metadata": {
        "id": "etkoZFvh5Aeb"
      },
      "execution_count": 5,
      "outputs": []
    },
    {
      "cell_type": "code",
      "source": [
        "def minimax_search(game,state ):\n",
        " player=state.to_move\n",
        "def max_value(state ):\n",
        " if game.is_terminal(state):\n",
        "   return game.utility(state,player),None\n",
        "   v, move=_infinity,None\n",
        "   for a in game.actions(state ):\n",
        "      v2 , = min_value(game.result(state , a))\n",
        "      if v2 > v:\n",
        "        v, move = v2 , a\n",
        "        return v, move\n",
        "def min_value(state ):\n",
        "  if game.is_terminal(state):\n",
        "     return game.utility(state , player), None\n",
        "     v, move = +infinity , None\n",
        "     for a in game.actions(state):\n",
        "       v2 , = max_value(game.result(state,a))\n",
        "       if v2 < v:\n",
        "          v, move = v2 , a\n",
        "          return v, move\n",
        "          return max_value (state)\n",
        "          infinity = math.inf"
      ],
      "metadata": {
        "id": "2tBR39jp8ynW"
      },
      "execution_count": 7,
      "outputs": []
    },
    {
      "cell_type": "code",
      "source": [
        "def alphabeta_search (game , state ):\n",
        "  player = state.to_move\n",
        "def max_value (state , alpha , beta ):\n",
        "  if game. is_terminal (state ):\n",
        "    return game.utility(state , player), None\n",
        "    v, move = -infinity , None\n",
        "    for a in game.actions(state ):\n",
        "       v2 , = min_value (game.result(state , a), alpha , beta)\n",
        "       if v2 > v:\n",
        "         v, move = v2 , a\n",
        "         alpha = max(alpha , v)\n",
        "         if v >= beta:\n",
        "            return v, move\n",
        "            return v, move\n",
        "            def min_value (state , alpha , beta ):\n",
        "              if game. is_terminal (state ):\n",
        "                return game.utility(state , player), None\n",
        "                v, move = +infinity , None\n",
        "                for a in game.actions(state ):\n",
        "                  v2 , = max_value (game.result(state , a), alpha , beta)\n",
        "                  if v2 < v:\n",
        "                     v, move = v2 , a\n",
        "                     beta = min(beta , v)\n",
        "                     if v <= alpha:\n",
        "                       return v, move\n",
        "                       return v, move\n",
        "                       return max_value (state,-infinity , +infinity)"
      ],
      "metadata": {
        "id": "WrlXbeqS-I4e"
      },
      "execution_count": 8,
      "outputs": []
    },
    {
      "cell_type": "code",
      "source": [
        "class tictactoe(Game):\n",
        "  def _init_(self, height =3, width =3, k=3):\n",
        "    self.k = k # k in a rowself.squares = {(x, y) for x in range(width) for y in range(height)}\n",
        "    self.initial = Board(height=height , width=width , to_move='x', utility =0)\n",
        "  def actions(self, board ):\n",
        "    return self.squares-set(board)\n",
        "  def result(self, board , square ):\n",
        "    player = board. to_move\n",
        "    board = board.new({square: player}, to_move =('0'if player == 'X' else 'X'))\n",
        "    win = k_in_row (board , player , square , self.k)\n",
        "    board.utility = (0 if not win else +1 if player == 'x' else -1)\n",
        "    return board\n",
        "  def utility(self, board , player ):\n",
        "    return board.utility if player == 'x' else -board.utility\n",
        "  def is_terminal (self, board ):\n",
        "    return board.utility != 0 or len(self.squares) == len(board)\n",
        "  def display(self, board ): print(board)\n",
        "  def k_in_row (board , player , square , k):\n",
        "     def in_row (x, y, dx , dy):\n",
        "        return 0 if board[x, y] != player else 1 + in_row (x + dx , y + dy , dx , dy)\n",
        "        return any(in_row(*square, dx, dy) + in_row(*square, -dx, -dy)-1>=k\n",
        "        for(dx, dy)in ((0,1),(1,0),(1,1),(1,-1)))"
      ],
      "metadata": {
        "id": "5BmB9l38BYBN"
      },
      "execution_count": 9,
      "outputs": []
    },
    {
      "cell_type": "code",
      "source": [
        "class Board(defaultdict):\n",
        "    empty = '.'\n",
        "    off = '#'\n",
        "    def _init_ (self, width =8, height =8, to_move =None , **kwds ):\n",
        "      self._dict_ .update(width=width , height=height , to_move = to_move , **kwds)\n",
        "    def new(self, changes: dict , **kwds) -> 'Board':\n",
        "      board = Board(width=self.width , height=self.height , **kwds)\n",
        "      board.update(self)\n",
        "      board.update(changes)\n",
        "      return board\n",
        "    def _missing_(self, loc):\n",
        "      x, y = loc\n",
        "      if 0 <= x < self.width and 0 <= y < self.height:\n",
        "         return self.empty\n",
        "      else:\n",
        "        return self.off\n",
        "    def _hash_(self):\n",
        "         return hash(tuple(sorted(self.items ()))) + hash(self. to_move )\n",
        "         def _repr_(self):\n",
        "             def row(y): return ''.join(self[x, y] for x in range(self.width ))\n",
        "             return '\\n'.join(map(row , range(self.height ))) + '\\n'"
      ],
      "metadata": {
        "id": "Pmntt-wkDKU7"
      },
      "execution_count": 11,
      "outputs": []
    },
    {
      "cell_type": "code",
      "source": [
        "def random_player(game,state):return random.choice(list(game.action(state)))\n",
        "def player(search_algorithm):\n",
        "    return lambda game,state:search_algorithm(game,state)[1]"
      ],
      "metadata": {
        "id": "-aDwCdTwEedv"
      },
      "execution_count": 12,
      "outputs": []
    }
  ]
}