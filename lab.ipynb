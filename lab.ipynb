{
  "nbformat": 4,
  "nbformat_minor": 0,
  "metadata": {
    "colab": {
      "provenance": [],
      "authorship_tag": "ABX9TyOcxMKgsdkvB1DPtedYiyNi",
      "include_colab_link": true
    },
    "kernelspec": {
      "name": "python3",
      "display_name": "Python 3"
    },
    "language_info": {
      "name": "python"
    }
  },
  "cells": [
    {
      "cell_type": "markdown",
      "metadata": {
        "id": "view-in-github",
        "colab_type": "text"
      },
      "source": [
        "<a href=\"https://colab.research.google.com/github/AKHIRANANDHINI/AIML/blob/main/lab.ipynb\" target=\"_parent\"><img src=\"https://colab.research.google.com/assets/colab-badge.svg\" alt=\"Open In Colab\"/></a>"
      ]
    },
    {
      "cell_type": "code",
      "execution_count": 16,
      "metadata": {
        "colab": {
          "base_uri": "https://localhost:8080/"
        },
        "id": "dyR4PfcExVCq",
        "outputId": "f2a3db90-597b-41db-c050-764a364e2311"
      },
      "outputs": [
        {
          "output_type": "stream",
          "name": "stdout",
          "text": [
            "Tokens: ['The', 'girl', 'is', 'playing', 'in', 'the', 'garden', 'in', 'the', 'morning', '.']\n",
            "Filtered Tokens: ['girl', 'playing', 'garden', 'morning', '.']\n",
            "Stemmer Tokens: ['the', 'girl', 'is', 'play', 'in', 'the', 'garden', 'in', 'the', 'morn', '.']\n",
            "Lemmaword is: ['The', 'girl', 'is', 'playing', 'in', 'the', 'garden', 'in', 'the', 'morning', '.']\n"
          ]
        },
        {
          "output_type": "stream",
          "name": "stderr",
          "text": [
            "[nltk_data] Downloading package punkt_tab to /root/nltk_data...\n",
            "[nltk_data]   Package punkt_tab is already up-to-date!\n",
            "[nltk_data] Downloading package stopwords to /root/nltk_data...\n",
            "[nltk_data]   Package stopwords is already up-to-date!\n",
            "[nltk_data] Downloading package wordnet to /root/nltk_data...\n",
            "[nltk_data]   Package wordnet is already up-to-date!\n"
          ]
        }
      ],
      "source": [
        "import nltk\n",
        "nltk.download('punkt_tab')\n",
        "from nltk.tokenize import word_tokenize\n",
        "from nltk.corpus import stopwords\n",
        "from nltk.stem import PorterStemmer\n",
        "from nltk.stem import WordNetLemmatizer\n",
        "nltk.download('stopwords')\n",
        "nltk.download('wordnet')\n",
        "\n",
        "\n",
        "sentence=\"The girl is playing in the garden in the morning.\"\n",
        "tokens=word_tokenize(sentence)\n",
        "print(\"Tokens:\",tokens)\n",
        "stop_words=set(stopwords.words('english'))\n",
        "filtered_tokens=[word for word in tokens if word.lower() not in stop_words]\n",
        "print(\"Filtered Tokens:\",filtered_tokens)\n",
        "stemmer=PorterStemmer()\n",
        "Stemmer_tokens=[stemmer.stem(word) for word in tokens]\n",
        "print(\"Stemmer Tokens:\",Stemmer_tokens)\n",
        "Lemmatizer=WordNetLemmatizer()\n",
        "L_Tokens=[Lemmatizer.lemmatize(word) for word in tokens]\n",
        "print(\"Lemmaword is:\",L_Tokens)\n",
        "\n",
        "\n"
      ]
    }
  ]
}